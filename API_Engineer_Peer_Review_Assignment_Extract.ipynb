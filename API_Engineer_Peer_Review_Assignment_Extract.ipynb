{
 "cells": [
  {
   "cell_type": "markdown",
   "metadata": {},
   "source": [
    "<center>\n",
    "    <img src=\"https://gitlab.com/ibm/skills-network/courses/placeholder101/-/raw/master/labs/module%201/images/IDSNlogo.png\" width=\"300\" alt=\"cognitiveclass.ai logo\"  />\n",
    "</center>\n"
   ]
  },
  {
   "cell_type": "markdown",
   "metadata": {},
   "source": [
    "# Peer Review Assignment - Data Engineer - Extract API Data\n"
   ]
  },
  {
   "cell_type": "markdown",
   "metadata": {},
   "source": [
    "Estimated time needed: **20** minutes\n"
   ]
  },
  {
   "cell_type": "markdown",
   "metadata": {},
   "source": [
    "## Objectives\n",
    "\n",
    "In this part you will:\n",
    "\n",
    "*   Collect exchange rate data using an API\n",
    "*   Store the data as a CSV\n"
   ]
  },
  {
   "cell_type": "markdown",
   "metadata": {},
   "source": [
    "For this lab, we are going to be using Python and several Python libraries. Some of these libraries might be installed in your lab environment or in SN Labs. Others may need to be installed by you. The cells below will install these libraries when executed.\n"
   ]
  },
  {
   "cell_type": "code",
   "execution_count": null,
   "metadata": {},
   "outputs": [],
   "source": [
    "#!pip install pandas\n",
    "#!pip install requests"
   ]
  },
  {
   "cell_type": "markdown",
   "metadata": {},
   "source": [
    "## Imports\n",
    "\n",
    "Import any additional libraries you may need here.\n"
   ]
  },
  {
   "cell_type": "code",
   "execution_count": 1,
   "metadata": {},
   "outputs": [],
   "source": [
    "import requests\n",
    "import pandas as pd"
   ]
  },
  {
   "cell_type": "markdown",
   "metadata": {},
   "source": [
    "## Extract Data Using an API\n"
   ]
  },
  {
   "cell_type": "markdown",
   "metadata": {},
   "source": [
    "Using ExchangeRate-API we will extract currency exchange rate data. Use the below steps to get the access key and to get the data.\n",
    "\n",
    "1.  Open the url : [https://exchangeratesapi.io/](https://exchangeratesapi.io/?utm_medium=Exinfluencer&utm_source=Exinfluencer&utm_content=000026UJ&utm_term=10006555&utm_id=NA-SkillsNetwork-Channel-SkillsNetworkCoursesIBMDeveloperSkillsNetworkPY0221ENSkillsNetwork23455645-2021-01-01) and create a free account.\n",
    "2.  Once the account is created. You will get the Get the Free API key option on the top as shown below:\n",
    "\n",
    "<img src=\"https://cf-courses-data.s3.us.cloud-object-storage.appdomain.cloud/IBMDeveloperSkillsNetwork-PY0221EN-SkillsNetwork/labs/module%206/Final%20Assignment/Images/getapi.png\"/>\n",
    "\n",
    "3.  Copy the API key and use in the url in Question 1.\n"
   ]
  },
  {
   "cell_type": "markdown",
   "metadata": {},
   "source": [
    "### Call the API\n",
    "\n",
    "<b> Question 1</b> Using the `requests` library call the endpoint given above and save the text, remember the first few characters of the output:\n"
   ]
  },
  {
   "cell_type": "code",
   "execution_count": 8,
   "metadata": {},
   "outputs": [
    {
     "data": {
      "text/plain": [
       "{'success': True,\n",
       " 'timestamp': 1651126083,\n",
       " 'base': 'EUR',\n",
       " 'date': '2022-04-28',\n",
       " 'rates': {'AED': 3.861095,\n",
       "  'AFN': 91.980882,\n",
       "  'ALL': 120.43005,\n",
       "  'AMD': 489.016165,\n",
       "  'ANG': 1.907215,\n",
       "  'AOA': 429.36855,\n",
       "  'ARS': 120.921811,\n",
       "  'AUD': 1.481248,\n",
       "  'AWG': 1.892654,\n",
       "  'AZN': 1.796256,\n",
       "  'BAM': 1.950648,\n",
       "  'BBD': 2.136703,\n",
       "  'BDT': 91.512476,\n",
       "  'BGN': 1.958361,\n",
       "  'BHD': 0.396254,\n",
       "  'BIF': 2173.10003,\n",
       "  'BMD': 1.051182,\n",
       "  'BND': 1.458608,\n",
       "  'BOB': 7.286043,\n",
       "  'BRL': 5.218704,\n",
       "  'BSD': 1.058288,\n",
       "  'BTC': 2.6736232e-05,\n",
       "  'BTN': 81.032348,\n",
       "  'BWP': 12.781044,\n",
       "  'BYN': 3.559509,\n",
       "  'BYR': 20603.172987,\n",
       "  'BZD': 2.133113,\n",
       "  'CAD': 1.349587,\n",
       "  'CDF': 2114.978639,\n",
       "  'CHF': 1.02054,\n",
       "  'CLF': 0.032265,\n",
       "  'CLP': 890.298781,\n",
       "  'CNY': 6.944525,\n",
       "  'COP': 4165.131144,\n",
       "  'CRC': 700.296166,\n",
       "  'CUC': 1.051182,\n",
       "  'CUP': 27.856331,\n",
       "  'CVE': 109.972832,\n",
       "  'CZK': 24.541943,\n",
       "  'DJF': 188.397686,\n",
       "  'DKK': 7.441645,\n",
       "  'DOP': 58.225864,\n",
       "  'DZD': 152.123974,\n",
       "  'EGP': 19.452171,\n",
       "  'ERN': 15.767737,\n",
       "  'ETB': 54.348029,\n",
       "  'EUR': 1,\n",
       "  'FJD': 2.273389,\n",
       "  'FKP': 0.807983,\n",
       "  'GBP': 0.839821,\n",
       "  'GEL': 3.200865,\n",
       "  'GGP': 0.807983,\n",
       "  'GHS': 7.963344,\n",
       "  'GIP': 0.807983,\n",
       "  'GMD': 56.563707,\n",
       "  'GNF': 9400.960804,\n",
       "  'GTQ': 8.10509,\n",
       "  'GYD': 221.401796,\n",
       "  'HKD': 8.248896,\n",
       "  'HNL': 25.974241,\n",
       "  'HRK': 7.565676,\n",
       "  'HTG': 115.356115,\n",
       "  'HUF': 377.746616,\n",
       "  'IDR': 15222.170817,\n",
       "  'ILS': 3.4891,\n",
       "  'IMP': 0.807983,\n",
       "  'INR': 80.564187,\n",
       "  'IQD': 1544.487333,\n",
       "  'IRR': 44465.011065,\n",
       "  'ISK': 137.231893,\n",
       "  'JEP': 0.807983,\n",
       "  'JMD': 163.641363,\n",
       "  'JOD': 0.745316,\n",
       "  'JPY': 136.75409,\n",
       "  'KES': 121.727052,\n",
       "  'KGS': 88.436179,\n",
       "  'KHR': 4279.692875,\n",
       "  'KMF': 485.646321,\n",
       "  'KPW': 946.064191,\n",
       "  'KRW': 1338.360059,\n",
       "  'KWD': 0.321651,\n",
       "  'KYD': 0.881949,\n",
       "  'KZT': 472.993386,\n",
       "  'LAK': 12740.829884,\n",
       "  'LBP': 1600.033925,\n",
       "  'LKR': 375.676556,\n",
       "  'LRD': 159.727391,\n",
       "  'LSL': 15.578785,\n",
       "  'LTL': 3.103868,\n",
       "  'LVL': 0.635849,\n",
       "  'LYD': 5.023307,\n",
       "  'MAD': 10.523941,\n",
       "  'MDL': 19.561644,\n",
       "  'MGA': 4276.977923,\n",
       "  'MKD': 61.452323,\n",
       "  'MMK': 1959.356424,\n",
       "  'MNT': 3148.14717,\n",
       "  'MOP': 8.553413,\n",
       "  'MRO': 375.271899,\n",
       "  'MUR': 45.517028,\n",
       "  'MVR': 16.188486,\n",
       "  'MWK': 864.203825,\n",
       "  'MXN': 21.530628,\n",
       "  'MYR': 4.586322,\n",
       "  'MZN': 67.096547,\n",
       "  'NAD': 15.578674,\n",
       "  'NGN': 436.682155,\n",
       "  'NIO': 37.903105,\n",
       "  'NOK': 9.839694,\n",
       "  'NPR': 129.653779,\n",
       "  'NZD': 1.618916,\n",
       "  'OMR': 0.404611,\n",
       "  'PAB': 1.058288,\n",
       "  'PEN': 4.047585,\n",
       "  'PGK': 3.729804,\n",
       "  'PHP': 55.002592,\n",
       "  'PKR': 196.438317,\n",
       "  'PLN': 4.704018,\n",
       "  'PYG': 7235.109459,\n",
       "  'QAR': 3.827383,\n",
       "  'RON': 4.94684,\n",
       "  'RSD': 117.596026,\n",
       "  'RUB': 77.978278,\n",
       "  'RWF': 1084.927963,\n",
       "  'SAR': 3.94264,\n",
       "  'SBD': 8.460254,\n",
       "  'SCR': 14.503098,\n",
       "  'SDG': 469.878363,\n",
       "  'SEK': 10.38196,\n",
       "  'SGD': 1.458289,\n",
       "  'SHP': 1.447893,\n",
       "  'SLL': 13060.940126,\n",
       "  'SOS': 608.634075,\n",
       "  'SRD': 21.868801,\n",
       "  'STD': 21757.351183,\n",
       "  'SVC': 9.26031,\n",
       "  'SYP': 2641.042423,\n",
       "  'SZL': 16.800266,\n",
       "  'THB': 36.237433,\n",
       "  'TJS': 13.175172,\n",
       "  'TMT': 3.679138,\n",
       "  'TND': 3.218197,\n",
       "  'TOP': 2.42413,\n",
       "  'TRY': 15.584971,\n",
       "  'TTD': 7.190297,\n",
       "  'TWD': 31.071372,\n",
       "  'TZS': 2440.845407,\n",
       "  'UAH': 32.012456,\n",
       "  'UGX': 3767.391069,\n",
       "  'USD': 1.051182,\n",
       "  'UYU': 43.086122,\n",
       "  'UZS': 11875.692498,\n",
       "  'VEF': 224774543910.08463,\n",
       "  'VND': 24137.773455,\n",
       "  'VUV': 118.343838,\n",
       "  'WST': 2.717771,\n",
       "  'XAF': 654.212712,\n",
       "  'XAG': 0.045623,\n",
       "  'XAU': 0.000561,\n",
       "  'XCD': 2.840873,\n",
       "  'XDR': 0.782022,\n",
       "  'XOF': 654.218919,\n",
       "  'XPF': 118.150835,\n",
       "  'YER': 263.05846,\n",
       "  'ZAR': 16.787118,\n",
       "  'ZMK': 9461.902194,\n",
       "  'ZMW': 18.016564,\n",
       "  'ZWL': 338.48027}}"
      ]
     },
     "execution_count": 8,
     "metadata": {},
     "output_type": "execute_result"
    }
   ],
   "source": [
    "# Write your code here\n",
    "url = \"http://api.exchangeratesapi.io/v1/latest?base=EUR&access_key=0d91689f36fd03c3122219e192b365ce\"  #Make sure to change ******* to your API key.\n",
    "data=requests.get(url).json()\n",
    "data"
   ]
  },
  {
   "cell_type": "markdown",
   "metadata": {},
   "source": [
    "### Save as DataFrame\n",
    "\n",
    "<b> Question 2</b>  Using the data gathered turn it into a `pandas` dataframe. The dataframe should have the Currency as the index and `Rate` as their columns. Make sure to drop unnecessary columns.\n"
   ]
  },
  {
   "cell_type": "code",
   "execution_count": 28,
   "metadata": {},
   "outputs": [
    {
     "data": {
      "text/html": [
       "<div>\n",
       "<style scoped>\n",
       "    .dataframe tbody tr th:only-of-type {\n",
       "        vertical-align: middle;\n",
       "    }\n",
       "\n",
       "    .dataframe tbody tr th {\n",
       "        vertical-align: top;\n",
       "    }\n",
       "\n",
       "    .dataframe thead th {\n",
       "        text-align: right;\n",
       "    }\n",
       "</style>\n",
       "<table border=\"1\" class=\"dataframe\">\n",
       "  <thead>\n",
       "    <tr style=\"text-align: right;\">\n",
       "      <th></th>\n",
       "      <th>success</th>\n",
       "      <th>timestamp</th>\n",
       "      <th>base</th>\n",
       "      <th>date</th>\n",
       "      <th>rates</th>\n",
       "    </tr>\n",
       "  </thead>\n",
       "  <tbody>\n",
       "    <tr>\n",
       "      <th>AED</th>\n",
       "      <td>True</td>\n",
       "      <td>1651126083</td>\n",
       "      <td>EUR</td>\n",
       "      <td>2022-04-28</td>\n",
       "      <td>3.861095</td>\n",
       "    </tr>\n",
       "    <tr>\n",
       "      <th>AFN</th>\n",
       "      <td>True</td>\n",
       "      <td>1651126083</td>\n",
       "      <td>EUR</td>\n",
       "      <td>2022-04-28</td>\n",
       "      <td>91.980882</td>\n",
       "    </tr>\n",
       "    <tr>\n",
       "      <th>ALL</th>\n",
       "      <td>True</td>\n",
       "      <td>1651126083</td>\n",
       "      <td>EUR</td>\n",
       "      <td>2022-04-28</td>\n",
       "      <td>120.430050</td>\n",
       "    </tr>\n",
       "    <tr>\n",
       "      <th>AMD</th>\n",
       "      <td>True</td>\n",
       "      <td>1651126083</td>\n",
       "      <td>EUR</td>\n",
       "      <td>2022-04-28</td>\n",
       "      <td>489.016165</td>\n",
       "    </tr>\n",
       "    <tr>\n",
       "      <th>ANG</th>\n",
       "      <td>True</td>\n",
       "      <td>1651126083</td>\n",
       "      <td>EUR</td>\n",
       "      <td>2022-04-28</td>\n",
       "      <td>1.907215</td>\n",
       "    </tr>\n",
       "    <tr>\n",
       "      <th>...</th>\n",
       "      <td>...</td>\n",
       "      <td>...</td>\n",
       "      <td>...</td>\n",
       "      <td>...</td>\n",
       "      <td>...</td>\n",
       "    </tr>\n",
       "    <tr>\n",
       "      <th>YER</th>\n",
       "      <td>True</td>\n",
       "      <td>1651126083</td>\n",
       "      <td>EUR</td>\n",
       "      <td>2022-04-28</td>\n",
       "      <td>263.058460</td>\n",
       "    </tr>\n",
       "    <tr>\n",
       "      <th>ZAR</th>\n",
       "      <td>True</td>\n",
       "      <td>1651126083</td>\n",
       "      <td>EUR</td>\n",
       "      <td>2022-04-28</td>\n",
       "      <td>16.787118</td>\n",
       "    </tr>\n",
       "    <tr>\n",
       "      <th>ZMK</th>\n",
       "      <td>True</td>\n",
       "      <td>1651126083</td>\n",
       "      <td>EUR</td>\n",
       "      <td>2022-04-28</td>\n",
       "      <td>9461.902194</td>\n",
       "    </tr>\n",
       "    <tr>\n",
       "      <th>ZMW</th>\n",
       "      <td>True</td>\n",
       "      <td>1651126083</td>\n",
       "      <td>EUR</td>\n",
       "      <td>2022-04-28</td>\n",
       "      <td>18.016564</td>\n",
       "    </tr>\n",
       "    <tr>\n",
       "      <th>ZWL</th>\n",
       "      <td>True</td>\n",
       "      <td>1651126083</td>\n",
       "      <td>EUR</td>\n",
       "      <td>2022-04-28</td>\n",
       "      <td>338.480270</td>\n",
       "    </tr>\n",
       "  </tbody>\n",
       "</table>\n",
       "<p>168 rows × 5 columns</p>\n",
       "</div>"
      ],
      "text/plain": [
       "     success   timestamp base        date        rates\n",
       "AED     True  1651126083  EUR  2022-04-28     3.861095\n",
       "AFN     True  1651126083  EUR  2022-04-28    91.980882\n",
       "ALL     True  1651126083  EUR  2022-04-28   120.430050\n",
       "AMD     True  1651126083  EUR  2022-04-28   489.016165\n",
       "ANG     True  1651126083  EUR  2022-04-28     1.907215\n",
       "..       ...         ...  ...         ...          ...\n",
       "YER     True  1651126083  EUR  2022-04-28   263.058460\n",
       "ZAR     True  1651126083  EUR  2022-04-28    16.787118\n",
       "ZMK     True  1651126083  EUR  2022-04-28  9461.902194\n",
       "ZMW     True  1651126083  EUR  2022-04-28    18.016564\n",
       "ZWL     True  1651126083  EUR  2022-04-28   338.480270\n",
       "\n",
       "[168 rows x 5 columns]"
      ]
     },
     "execution_count": 28,
     "metadata": {},
     "output_type": "execute_result"
    }
   ],
   "source": [
    "# Turn the data into a dataframe\n",
    "\n",
    "data_list = pd.DataFrame(data)\n",
    "data_list"
   ]
  },
  {
   "cell_type": "code",
   "execution_count": 31,
   "metadata": {},
   "outputs": [
    {
     "data": {
      "text/html": [
       "<div>\n",
       "<style scoped>\n",
       "    .dataframe tbody tr th:only-of-type {\n",
       "        vertical-align: middle;\n",
       "    }\n",
       "\n",
       "    .dataframe tbody tr th {\n",
       "        vertical-align: top;\n",
       "    }\n",
       "\n",
       "    .dataframe thead th {\n",
       "        text-align: right;\n",
       "    }\n",
       "</style>\n",
       "<table border=\"1\" class=\"dataframe\">\n",
       "  <thead>\n",
       "    <tr style=\"text-align: right;\">\n",
       "      <th></th>\n",
       "      <th>rates</th>\n",
       "    </tr>\n",
       "  </thead>\n",
       "  <tbody>\n",
       "    <tr>\n",
       "      <th>AED</th>\n",
       "      <td>3.861095</td>\n",
       "    </tr>\n",
       "    <tr>\n",
       "      <th>AFN</th>\n",
       "      <td>91.980882</td>\n",
       "    </tr>\n",
       "    <tr>\n",
       "      <th>ALL</th>\n",
       "      <td>120.430050</td>\n",
       "    </tr>\n",
       "    <tr>\n",
       "      <th>AMD</th>\n",
       "      <td>489.016165</td>\n",
       "    </tr>\n",
       "    <tr>\n",
       "      <th>ANG</th>\n",
       "      <td>1.907215</td>\n",
       "    </tr>\n",
       "    <tr>\n",
       "      <th>...</th>\n",
       "      <td>...</td>\n",
       "    </tr>\n",
       "    <tr>\n",
       "      <th>YER</th>\n",
       "      <td>263.058460</td>\n",
       "    </tr>\n",
       "    <tr>\n",
       "      <th>ZAR</th>\n",
       "      <td>16.787118</td>\n",
       "    </tr>\n",
       "    <tr>\n",
       "      <th>ZMK</th>\n",
       "      <td>9461.902194</td>\n",
       "    </tr>\n",
       "    <tr>\n",
       "      <th>ZMW</th>\n",
       "      <td>18.016564</td>\n",
       "    </tr>\n",
       "    <tr>\n",
       "      <th>ZWL</th>\n",
       "      <td>338.480270</td>\n",
       "    </tr>\n",
       "  </tbody>\n",
       "</table>\n",
       "<p>168 rows × 1 columns</p>\n",
       "</div>"
      ],
      "text/plain": [
       "           rates\n",
       "AED     3.861095\n",
       "AFN    91.980882\n",
       "ALL   120.430050\n",
       "AMD   489.016165\n",
       "ANG     1.907215\n",
       "..           ...\n",
       "YER   263.058460\n",
       "ZAR    16.787118\n",
       "ZMK  9461.902194\n",
       "ZMW    18.016564\n",
       "ZWL   338.480270\n",
       "\n",
       "[168 rows x 1 columns]"
      ]
     },
     "execution_count": 31,
     "metadata": {},
     "output_type": "execute_result"
    }
   ],
   "source": [
    "# Drop unnescessary columns\n",
    "new_data=data_list.drop(columns=[\"success\",\"timestamp\",\"base\",\"date\"])\n",
    "new_data"
   ]
  },
  {
   "cell_type": "markdown",
   "metadata": {},
   "source": [
    "### Load the Data\n",
    "\n",
    "Using the dataframe save it as a CSV names `exchange_rates_1.csv`.\n"
   ]
  },
  {
   "cell_type": "code",
   "execution_count": 32,
   "metadata": {},
   "outputs": [],
   "source": [
    "# Save the Dataframe\n",
    "new_data.to_csv(\"exchange_rates1.csv\")"
   ]
  },
  {
   "cell_type": "markdown",
   "metadata": {},
   "source": [
    "Your CSV should be in this format with more currencies\n",
    "\n",
    "|     | Rates      |\n",
    "| --- | ---------- |\n",
    "| AED | 4.398618   |\n",
    "| AFN | 92.917693  |\n",
    "| ALL | 123.099093 |\n",
    "| AMD | 621.935674 |\n",
    "| ANG | 2.149648   |\n"
   ]
  },
  {
   "cell_type": "markdown",
   "metadata": {},
   "source": [
    "## Authors\n"
   ]
  },
  {
   "cell_type": "markdown",
   "metadata": {},
   "source": [
    "Ramesh Sannareddy, Joseph Santarcangelo and Azim Hirjani\n"
   ]
  },
  {
   "cell_type": "markdown",
   "metadata": {},
   "source": [
    "### Other Contributors\n"
   ]
  },
  {
   "cell_type": "markdown",
   "metadata": {},
   "source": [
    "Rav Ahuja\n"
   ]
  },
  {
   "cell_type": "markdown",
   "metadata": {},
   "source": [
    "## Change Log\n"
   ]
  },
  {
   "cell_type": "markdown",
   "metadata": {},
   "source": [
    "| Date (YYYY-MM-DD) | Version | Changed By        | Change Description                 |\n",
    "| ----------------- | ------- | ----------------- | ---------------------------------- |\n",
    "| 2021-04-15        | 0.2     | Malika            | Updated the lab from USD to EUR    |\n",
    "| 2020-11-25        | 0.1     | Ramesh Sannareddy | Created initial version of the lab |\n"
   ]
  },
  {
   "cell_type": "markdown",
   "metadata": {},
   "source": [
    "Copyright © 2020 IBM Corporation. This notebook and its source code are released under the terms of the [MIT License](https://cognitiveclass.ai/mit-license?utm_medium=Exinfluencer&utm_source=Exinfluencer&utm_content=000026UJ&utm_term=10006555&utm_id=NA-SkillsNetwork-Channel-SkillsNetworkCoursesIBMDeveloperSkillsNetworkPY0221ENSkillsNetwork23455645-2021-01-01&cm_mmc=Email_Newsletter-\\_-Developer_Ed%2BTech-\\_-WW_WW-\\_-SkillsNetwork-Courses-IBM-DA0321EN-SkillsNetwork-21426264&cm_mmca1=000026UJ&cm_mmca2=10006555&cm_mmca3=M12345678&cvosrc=email.Newsletter.M12345678&cvo_campaign=000026UJ).\n"
   ]
  }
 ],
 "metadata": {
  "kernelspec": {
   "display_name": "Python",
   "language": "python",
   "name": "conda-env-python-py"
  },
  "language_info": {
   "codemirror_mode": {
    "name": "ipython",
    "version": 3
   },
   "file_extension": ".py",
   "mimetype": "text/x-python",
   "name": "python",
   "nbconvert_exporter": "python",
   "pygments_lexer": "ipython3",
   "version": "3.7.12"
  }
 },
 "nbformat": 4,
 "nbformat_minor": 4
}
